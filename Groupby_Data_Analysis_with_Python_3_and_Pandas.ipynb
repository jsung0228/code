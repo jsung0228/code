{
  "nbformat": 4,
  "nbformat_minor": 0,
  "metadata": {
    "colab": {
      "name": "Groupby - Data Analysis with Python 3 and Pandas.ipynb",
      "provenance": [],
      "authorship_tag": "ABX9TyOTb9UpWxPnVeVi40wVTyk0",
      "include_colab_link": true
    },
    "kernelspec": {
      "name": "python3",
      "display_name": "Python 3"
    },
    "language_info": {
      "name": "python"
    }
  },
  "cells": [
    {
      "cell_type": "markdown",
      "metadata": {
        "id": "view-in-github",
        "colab_type": "text"
      },
      "source": [
        "<a href=\"https://colab.research.google.com/github/jsung0228/code/blob/main/Groupby_Data_Analysis_with_Python_3_and_Pandas.ipynb\" target=\"_parent\"><img src=\"https://colab.research.google.com/assets/colab-badge.svg\" alt=\"Open In Colab\"/></a>"
      ]
    },
    {
      "cell_type": "code",
      "execution_count": null,
      "metadata": {
        "id": "y0_-kbk6evUm"
      },
      "outputs": [],
      "source": [
        ""
      ]
    }
  ]
}